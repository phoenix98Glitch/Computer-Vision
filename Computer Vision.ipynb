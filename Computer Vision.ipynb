{
 "cells": [
  {
   "cell_type": "code",
   "execution_count": 1,
   "metadata": {},
   "outputs": [
    {
     "name": "stdout",
     "output_type": "stream",
     "text": [
      "2.0.0-alpha0\n"
     ]
    }
   ],
   "source": [
    "import tensorflow as tf\n",
    "print(tf.__version__)"
   ]
  },
  {
   "cell_type": "code",
   "execution_count": 2,
   "metadata": {},
   "outputs": [],
   "source": [
    "mnist = tf.keras.datasets.fashion_mnist"
   ]
  },
  {
   "cell_type": "code",
   "execution_count": 3,
   "metadata": {},
   "outputs": [
    {
     "name": "stdout",
     "output_type": "stream",
     "text": [
      "Downloading data from https://storage.googleapis.com/tensorflow/tf-keras-datasets/train-labels-idx1-ubyte.gz\n",
      "32768/29515 [=================================] - 0s 1us/step\n",
      "Downloading data from https://storage.googleapis.com/tensorflow/tf-keras-datasets/train-images-idx3-ubyte.gz\n",
      "26427392/26421880 [==============================] - 2s 0us/step\n",
      "Downloading data from https://storage.googleapis.com/tensorflow/tf-keras-datasets/t10k-labels-idx1-ubyte.gz\n",
      "8192/5148 [===============================================] - 0s 0us/step\n",
      "Downloading data from https://storage.googleapis.com/tensorflow/tf-keras-datasets/t10k-images-idx3-ubyte.gz\n",
      "4423680/4422102 [==============================] - 1s 0us/step\n"
     ]
    }
   ],
   "source": [
    "(training_images, training_labels), (test_images, test_labels) = mnist.load_data()"
   ]
  },
  {
   "cell_type": "code",
   "execution_count": 9,
   "metadata": {},
   "outputs": [
    {
     "name": "stdout",
     "output_type": "stream",
     "text": [
      "9\n",
      "[[  0   0   0   0   0   0   0   0   0   0   0   0   0   0   0   0   0   0\n",
      "    0   0   0   0   0   0   0   0   0   0]\n",
      " [  0   0   0   0   0   0   0   0   0   0   0   0   0   0   0   0   0   0\n",
      "    0   0   0   0   0   0   0   0   0   0]\n",
      " [  0   0   0   0   0   0   0   0   0   0   0   0   0   0   0   0   0   0\n",
      "    0   0   0   0   0   0   0   0   0   0]\n",
      " [  0   0   0   0   0   0   0   0   0   0   0   0   0   0   0   0   0   0\n",
      "    0   0   0   0   0   0   0   0   0   0]\n",
      " [  0   0   0   0   0   0   0   0   0   0   0   0   0   0   0   0   0   0\n",
      "    0   0   0   0   0   0   0   0   0   0]\n",
      " [  0   0   0   0   0   0   0   0   0   0   0   0   0   0   0   0  82 187\n",
      "   26   0   0   0   0   0   0   0   0   0]\n",
      " [  0   0   0   0   0   0   0   0   0   1   0   0   1   0   0 179 240 237\n",
      "  255 240 139  83  64  43  60  54   0   1]\n",
      " [  0   0   0   0   0   0   0   0   0   1   0   0   1   0  58 239 222 234\n",
      "  238 246 252 254 255 248 255 187   0   0]\n",
      " [  0   0   0   0   0   0   0   0   0   0   2   3   0   0 194 239 226 237\n",
      "  235 232 230 234 234 233 249 171   0   0]\n",
      " [  0   0   0   0   0   0   0   0   0   1   1   0   0  10 255 226 242 239\n",
      "  238 239 240 239 242 238 248 192   0   0]\n",
      " [  0   0   0   0   0   0   0   0   0   0   0   0   0 172 245 229 240 241\n",
      "  240 241 243 243 241 227 250 209   0   0]\n",
      " [  0   0   0   0   0   0   0   0   0   6   5   0  62 255 230 236 239 241\n",
      "  242 241 242 242 238 238 242 253   0   0]\n",
      " [  0   0   0   0   0   0   0   0   0   3   0   0 255 235 228 244 241 241\n",
      "  244 243 243 244 243 239 235 255  22   0]\n",
      " [  0   0   0   0   0   0   0   0   0   0   0 246 228 220 245 243 237 241\n",
      "  242 242 242 243 239 237 235 253 106   0]\n",
      " [  0   0   3   4   4   2   1   0   0  18 243 228 231 241 243 237 238 242\n",
      "  241 240 240 240 235 237 236 246 234   0]\n",
      " [  1   0   0   0   0   0   0   0  22 255 238 227 238 239 237 241 241 237\n",
      "  236 238 239 239 239 239 239 237 255   0]\n",
      " [  0   0   0   0   0  25  83 168 255 225 225 235 228 230 227 225 227 231\n",
      "  232 237 240 236 238 239 239 235 251  62]\n",
      " [  0 165 225 220 224 255 255 233 229 223 227 228 231 232 235 237 233 230\n",
      "  228 230 233 232 235 233 234 235 255  58]\n",
      " [ 52 251 221 226 227 225 225 225 226 226 225 227 231 229 232 239 245 250\n",
      "  251 252 254 254 252 254 252 235 255   0]\n",
      " [ 31 208 230 233 233 237 236 236 241 235 241 247 251 254 242 236 233 227\n",
      "  219 202 193 189 186 181 171 165 190  42]\n",
      " [ 77 199 172 188 199 202 218 219 220 229 234 222 213 209 207 210 203 184\n",
      "  152 171 165 162 162 167 168 157 192  78]\n",
      " [  0  45 101 140 159 174 182 186 185 188 195 197 188 175 133  70  19   0\n",
      "    0 209 231 218 222 224 227 217 229  93]\n",
      " [  0   0   0   0   0   0   2  24  37  45  32  18  11   0   0   0   0   0\n",
      "    0  72  51  53  37  34  29  31   5   0]\n",
      " [  0   0   0   0   0   0   0   0   0   0   0   0   0   0   0   0   0   0\n",
      "    0   0   0   0   0   0   0   0   0   0]\n",
      " [  0   0   0   0   0   0   0   0   0   0   0   0   0   0   0   0   0   0\n",
      "    0   0   0   0   0   0   0   0   0   0]\n",
      " [  0   0   0   0   0   0   0   0   0   0   0   0   0   0   0   0   0   0\n",
      "    0   0   0   0   0   0   0   0   0   0]\n",
      " [  0   0   0   0   0   0   0   0   0   0   0   0   0   0   0   0   0   0\n",
      "    0   0   0   0   0   0   0   0   0   0]\n",
      " [  0   0   0   0   0   0   0   0   0   0   0   0   0   0   0   0   0   0\n",
      "    0   0   0   0   0   0   0   0   0   0]]\n"
     ]
    },
    {
     "data": {
      "image/png": "[encoded data removed]",
      "text/plain": [
       "<Figure size 432x288 with 1 Axes>"
      ]
     },
     "metadata": {
      "needs_background": "light"
     },
     "output_type": "display_data"
    }
   ],
   "source": [
    "import numpy as np\n",
    "\n",
    "import matplotlib.pyplot as plt\n",
    "plt.imshow(training_images[0])\n",
    "print(training_labels[42])\n",
    "print(training_images[42])"
   ]
  },
  {
   "cell_type": "code",
   "execution_count": 10,
   "metadata": {},
   "outputs": [],
   "source": [
    "training_images  = training_images / 255.0\n",
    "test_images = test_images / 255.0"
   ]
  },
  {
   "cell_type": "code",
   "execution_count": 11,
   "metadata": {},
   "outputs": [],
   "source": [
    "model = tf.keras.models.Sequential([tf.keras.layers.Flatten(), \n",
    "                                    tf.keras.layers.Dense(128, activation=tf.nn.relu), \n",
    "                                    tf.keras.layers.Dense(10, activation=tf.nn.softmax)])"
   ]
  },
  {
   "cell_type": "code",
   "execution_count": 12,
   "metadata": {},
   "outputs": [
    {
     "name": "stdout",
     "output_type": "stream",
     "text": [
      "Epoch 1/50\n",
      "60000/60000 [==============================] - 2s 39us/sample - loss: 0.4951 - accuracy: 0.8255\n",
      "Epoch 2/50\n",
      "60000/60000 [==============================] - 2s 37us/sample - loss: 0.3708 - accuracy: 0.8661\n",
      "Epoch 3/50\n",
      "60000/60000 [==============================] - 2s 39us/sample - loss: 0.3359 - accuracy: 0.8773\n",
      "Epoch 4/50\n",
      "60000/60000 [==============================] - 2s 35us/sample - loss: 0.3099 - accuracy: 0.8865\n",
      "Epoch 5/50\n",
      "60000/60000 [==============================] - 2s 33us/sample - loss: 0.2918 - accuracy: 0.8929\n",
      "Epoch 6/50\n",
      "60000/60000 [==============================] - 2s 35us/sample - loss: 0.2777 - accuracy: 0.8973\n",
      "Epoch 7/50\n",
      "60000/60000 [==============================] - 2s 32us/sample - loss: 0.2649 - accuracy: 0.9016\n",
      "Epoch 8/50\n",
      "60000/60000 [==============================] - 2s 32us/sample - loss: 0.2575 - accuracy: 0.9039\n",
      "Epoch 9/50\n",
      "60000/60000 [==============================] - 2s 35us/sample - loss: 0.2445 - accuracy: 0.9083\n",
      "Epoch 10/50\n",
      "60000/60000 [==============================] - 2s 39us/sample - loss: 0.2371 - accuracy: 0.9108\n",
      "Epoch 11/50\n",
      "60000/60000 [==============================] - 2s 36us/sample - loss: 0.2290 - accuracy: 0.9137\n",
      "Epoch 12/50\n",
      "60000/60000 [==============================] - 2s 37us/sample - loss: 0.2205 - accuracy: 0.9180\n",
      "Epoch 13/50\n",
      "60000/60000 [==============================] - 2s 38us/sample - loss: 0.2132 - accuracy: 0.9201\n",
      "Epoch 14/50\n",
      "60000/60000 [==============================] - 2s 37us/sample - loss: 0.2082 - accuracy: 0.9211\n",
      "Epoch 15/50\n",
      "60000/60000 [==============================] - 2s 39us/sample - loss: 0.2018 - accuracy: 0.9239\n",
      "Epoch 16/50\n",
      "60000/60000 [==============================] - 2s 35us/sample - loss: 0.1973 - accuracy: 0.9257\n",
      "Epoch 17/50\n",
      "60000/60000 [==============================] - 2s 34us/sample - loss: 0.1901 - accuracy: 0.9287\n",
      "Epoch 18/50\n",
      "60000/60000 [==============================] - 2s 34us/sample - loss: 0.1865 - accuracy: 0.9292\n",
      "Epoch 19/50\n",
      "60000/60000 [==============================] - 2s 34us/sample - loss: 0.1828 - accuracy: 0.9310\n",
      "Epoch 20/50\n",
      "60000/60000 [==============================] - 2s 34us/sample - loss: 0.1763 - accuracy: 0.9332\n",
      "Epoch 21/50\n",
      "60000/60000 [==============================] - 2s 34us/sample - loss: 0.1743 - accuracy: 0.9343\n",
      "Epoch 22/50\n",
      "60000/60000 [==============================] - 2s 34us/sample - loss: 0.1684 - accuracy: 0.9368\n",
      "Epoch 23/50\n",
      "60000/60000 [==============================] - 2s 37us/sample - loss: 0.1650 - accuracy: 0.9375\n",
      "Epoch 24/50\n",
      "60000/60000 [==============================] - 2s 38us/sample - loss: 0.1614 - accuracy: 0.9396\n",
      "Epoch 25/50\n",
      "60000/60000 [==============================] - 2s 36us/sample - loss: 0.1569 - accuracy: 0.9408\n",
      "Epoch 26/50\n",
      "60000/60000 [==============================] - 2s 34us/sample - loss: 0.1538 - accuracy: 0.9416\n",
      "Epoch 27/50\n",
      "60000/60000 [==============================] - 2s 36us/sample - loss: 0.1512 - accuracy: 0.9427\n",
      "Epoch 28/50\n",
      "60000/60000 [==============================] - 2s 34us/sample - loss: 0.1463 - accuracy: 0.9454\n",
      "Epoch 29/50\n",
      "60000/60000 [==============================] - 2s 34us/sample - loss: 0.1454 - accuracy: 0.9462\n",
      "Epoch 30/50\n",
      "60000/60000 [==============================] - 2s 34us/sample - loss: 0.1392 - accuracy: 0.9476\n",
      "Epoch 31/50\n",
      "60000/60000 [==============================] - 2s 34us/sample - loss: 0.1380 - accuracy: 0.9478\n",
      "Epoch 32/50\n",
      "60000/60000 [==============================] - 2s 34us/sample - loss: 0.1351 - accuracy: 0.9493\n",
      "Epoch 33/50\n",
      "60000/60000 [==============================] - 2s 34us/sample - loss: 0.1330 - accuracy: 0.9495\n",
      "Epoch 34/50\n",
      "60000/60000 [==============================] - 2s 34us/sample - loss: 0.1314 - accuracy: 0.9505\n",
      "Epoch 35/50\n",
      "60000/60000 [==============================] - 2s 34us/sample - loss: 0.1271 - accuracy: 0.9523\n",
      "Epoch 36/50\n",
      "60000/60000 [==============================] - 2s 34us/sample - loss: 0.1249 - accuracy: 0.9527\n",
      "Epoch 37/50\n",
      "60000/60000 [==============================] - 2s 34us/sample - loss: 0.1211 - accuracy: 0.9545\n",
      "Epoch 38/50\n",
      "60000/60000 [==============================] - 2s 34us/sample - loss: 0.1190 - accuracy: 0.9554\n",
      "Epoch 39/50\n",
      "60000/60000 [==============================] - 2s 34us/sample - loss: 0.1184 - accuracy: 0.9563\n",
      "Epoch 40/50\n",
      "60000/60000 [==============================] - 2s 34us/sample - loss: 0.1172 - accuracy: 0.9560\n",
      "Epoch 41/50\n",
      "60000/60000 [==============================] - 2s 34us/sample - loss: 0.1140 - accuracy: 0.9568\n",
      "Epoch 42/50\n",
      "60000/60000 [==============================] - 2s 34us/sample - loss: 0.1137 - accuracy: 0.9574\n",
      "Epoch 43/50\n",
      "60000/60000 [==============================] - 2s 35us/sample - loss: 0.1102 - accuracy: 0.9591\n",
      "Epoch 44/50\n",
      "60000/60000 [==============================] - 2s 34us/sample - loss: 0.1105 - accuracy: 0.9580\n",
      "Epoch 45/50\n",
      "60000/60000 [==============================] - 2s 34us/sample - loss: 0.1074 - accuracy: 0.9599\n",
      "Epoch 46/50\n",
      "60000/60000 [==============================] - 2s 34us/sample - loss: 0.1060 - accuracy: 0.9610\n",
      "Epoch 47/50\n",
      "60000/60000 [==============================] - 2s 34us/sample - loss: 0.1022 - accuracy: 0.9611\n",
      "Epoch 48/50\n",
      "60000/60000 [==============================] - 2s 36us/sample - loss: 0.1024 - accuracy: 0.9613\n",
      "Epoch 49/50\n",
      "60000/60000 [==============================] - 2s 36us/sample - loss: 0.1013 - accuracy: 0.9622\n",
      "Epoch 50/50\n",
      "60000/60000 [==============================] - 2s 35us/sample - loss: 0.0969 - accuracy: 0.9638\n"
     ]
    },
    {
     "data": {
      "text/plain": [
       "<tensorflow.python.keras.callbacks.History at 0x26349db1eb8>"
      ]
     },
     "execution_count": 12,
     "metadata": {},
     "output_type": "execute_result"
    }
   ],
   "source": [
    "model.compile(optimizer = tf.optimizers.Adam(),\n",
    "              loss = 'sparse_categorical_crossentropy',\n",
    "              metrics=['accuracy'])\n",
    "\n",
    "model.fit(training_images, training_labels, epochs=50)"
   ]
  },
  {
   "cell_type": "code",
   "execution_count": 13,
   "metadata": {},
   "outputs": [
    {
     "name": "stdout",
     "output_type": "stream",
     "text": [
      "10000/10000 [==============================] - 0s 25us/sample - loss: 0.5172 - accuracy: 0.8883\n"
     ]
    },
    {
     "data": {
      "text/plain": [
       "[0.5172240779936313, 0.8883]"
      ]
     },
     "execution_count": 13,
     "metadata": {},
     "output_type": "execute_result"
    }
   ],
   "source": [
    "model.evaluate(test_images, test_labels)"
   ]
  },
  {
   "cell_type": "code",
   "execution_count": null,
   "metadata": {},
   "outputs": [],
   "source": []
  }
 ],
 "metadata": {
  "kernelspec": {
   "display_name": "Python 3",
   "language": "python",
   "name": "python3"
  },
  "language_info": {
   "codemirror_mode": {
    "name": "ipython",
    "version": 3
   },
   "file_extension": ".py",
   "mimetype": "text/x-python",
   "name": "python",
   "nbconvert_exporter": "python",
   "pygments_lexer": "ipython3",
   "version": "3.7.3"
  }
 },
 "nbformat": 4,
 "nbformat_minor": 2
}
